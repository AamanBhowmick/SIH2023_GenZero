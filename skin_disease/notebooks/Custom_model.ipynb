{
  "cells": [
    {
      "cell_type": "markdown",
      "metadata": {
        "colab_type": "text",
        "id": "view-in-github"
      },
      "source": [
        "<a href=\"https://colab.research.google.com/github/IndraP24/Skin-Cancer-Detector/blob/main/sc_detector/notebooks/Skin_Cancer_Classification_Custom_model.ipynb\" target=\"_parent\"><img src=\"https://colab.research.google.com/assets/colab-badge.svg\" alt=\"Open In Colab\"/></a>"
      ]
    },
    {
      "cell_type": "markdown",
      "metadata": {
        "id": "Ayba7lky3foV"
      },
      "source": [
        "# Skin Cancer Classification\n",
        "\n"
      ]
    },
    {
      "cell_type": "code",
      "execution_count": 1,
      "metadata": {
        "colab": {
          "base_uri": "https://localhost:8080/"
        },
        "id": "gJkJ4Q1Zdo1N",
        "outputId": "cde7d379-8690-4359-b127-f8a96007ce55"
      },
      "outputs": [
        {
          "name": "stdout",
          "output_type": "stream",
          "text": [
            "Sat Sep 16 09:18:07 2023       \n",
            "+-----------------------------------------------------------------------------+\n",
            "| NVIDIA-SMI 457.49       Driver Version: 457.49       CUDA Version: 11.1     |\n",
            "|-------------------------------+----------------------+----------------------+\n",
            "| GPU  Name            TCC/WDDM | Bus-Id        Disp.A | Volatile Uncorr. ECC |\n",
            "| Fan  Temp  Perf  Pwr:Usage/Cap|         Memory-Usage | GPU-Util  Compute M. |\n",
            "|                               |                      |               MIG M. |\n",
            "|===============================+======================+======================|\n",
            "|   0  GeForce MX250      WDDM  | 00000000:01:00.0 Off |                  N/A |\n",
            "| N/A   66C    P0    N/A /  N/A |     64MiB /  2048MiB |      0%      Default |\n",
            "|                               |                      |                  N/A |\n",
            "+-------------------------------+----------------------+----------------------+\n",
            "                                                                               \n",
            "+-----------------------------------------------------------------------------+\n",
            "| Processes:                                                                  |\n",
            "|  GPU   GI   CI        PID   Type   Process name                  GPU Memory |\n",
            "|        ID   ID                                                   Usage      |\n",
            "|=============================================================================|\n",
            "|    0   N/A  N/A     11624    C+G   ...n64\\EpicGamesLauncher.exe    N/A      |\n",
            "+-----------------------------------------------------------------------------+\n"
          ]
        }
      ],
      "source": [
        "!nvidia-smi"
      ]
    },
    {
      "cell_type": "markdown",
      "metadata": {
        "id": "u5kiwKVtK8wH"
      },
      "source": [
        "# Import Libraries"
      ]
    },
    {
      "cell_type": "code",
      "execution_count": 2,
      "metadata": {
        "_cell_guid": "b1076dfc-b9ad-4769-8c92-a6c4dae69d19",
        "_uuid": "8f2839f25d086af736a60e9eeb907d3b93b6e0e5",
        "id": "YkGNnHe0BKFV",
        "trusted": true
      },
      "outputs": [],
      "source": [
        "#import the important libraries\n",
        "\n",
        "import numpy as np\n",
        "import matplotlib.pyplot as plt\n",
        "import seaborn as sns\n",
        "from PIL import Image\n",
        "import pandas as pd\n",
        "import datetime\n",
        "import tensorflow as tf\n",
        "\n",
        "from tensorflow.keras.preprocessing.image import ImageDataGenerator, array_to_img, img_to_array\n",
        "from tensorflow.keras.models import Sequential\n",
        "from tensorflow.keras.layers import Conv2D, MaxPool2D, Flatten, BatchNormalization, Dropout, Dense\n",
        "from keras.callbacks import ReduceLROnPlateau\n",
        "from sklearn.model_selection import train_test_split\n",
        "from sklearn.metrics import confusion_matrix, classification_report"
      ]
    },
    {
      "cell_type": "markdown",
      "metadata": {
        "id": "EuveE7rlBKFW"
      },
      "source": [
        "The data is obtained from Kaggle. The data loading from Kaggle is shown below.\n",
        "\n",
        "There are 7 Classes in that data as follows: \n",
        " \n",
        "0: Actinic keratoses and intraepithelial carcinoma / Bowen's disease >> `akiec`\n",
        " \n",
        "1: Dermatofibroma >> `df`\n",
        "\n",
        "2: Benign keratosis-like lesions >> `bkl`\n",
        "\n",
        "3: Melanoma >> `mel`\n",
        "\n",
        "4: Melanocytic nevi >> `nv`\n",
        "\n",
        "5: Vascular lesions >> `vasc`\n",
        "\n",
        "6: Basal cell carcinoma >> `bcc`\n"
      ]
    },
    {
      "cell_type": "markdown",
      "metadata": {
        "id": "BqIIaQpokezA"
      },
      "source": [
        "# Loading data using Kaggle API"
      ]
    },
    {
      "cell_type": "code",
      "execution_count": 3,
      "metadata": {
        "id": "pC5k-odFcFtf"
      },
      "outputs": [
        {
          "name": "stderr",
          "output_type": "stream",
          "text": [
            "The syntax of the command is incorrect.\n"
          ]
        }
      ],
      "source": [
        "# Create a directory called \".kaggle\"\n",
        "!mkdir ~/.kaggle"
      ]
    },
    {
      "cell_type": "code",
      "execution_count": 4,
      "metadata": {
        "id": "z-nQZqwYdVpO"
      },
      "outputs": [
        {
          "name": "stderr",
          "output_type": "stream",
          "text": [
            "'cp' is not recognized as an internal or external command,\n",
            "operable program or batch file.\n"
          ]
        }
      ],
      "source": [
        "# Place the kaggle.json file in the directory\n",
        "!cp kaggle.json ~/.kaggle/"
      ]
    },
    {
      "cell_type": "code",
      "execution_count": 5,
      "metadata": {
        "id": "MZkj2c1_dX2-"
      },
      "outputs": [
        {
          "name": "stderr",
          "output_type": "stream",
          "text": [
            "'chmod' is not recognized as an internal or external command,\n",
            "operable program or batch file.\n"
          ]
        }
      ],
      "source": [
        "# Set permissions of 600 ---> which means that the owner has full read and write access to the file, while no other user can access the file\n",
        "!chmod 600 ~/.kaggle/kaggle.json"
      ]
    },
    {
      "cell_type": "code",
      "execution_count": 6,
      "metadata": {
        "colab": {
          "base_uri": "https://localhost:8080/"
        },
        "id": "XOIXqC4pdak9",
        "outputId": "8a4609c5-3287-4652-bf0d-507f900e5e02"
      },
      "outputs": [
        {
          "name": "stderr",
          "output_type": "stream",
          "text": [
            "'kaggle' is not recognized as an internal or external command,\n",
            "operable program or batch file.\n"
          ]
        }
      ],
      "source": [
        "# Search for the ham10000 dataset in kaggle datasets\n",
        "! kaggle datasets list -s ham10000"
      ]
    },
    {
      "cell_type": "code",
      "execution_count": 7,
      "metadata": {
        "colab": {
          "base_uri": "https://localhost:8080/"
        },
        "id": "IcT19BAvd7hW",
        "outputId": "88555f7e-2455-4b38-e742-057489d3c1ff"
      },
      "outputs": [
        {
          "name": "stderr",
          "output_type": "stream",
          "text": [
            "'kaggle' is not recognized as an internal or external command,\n",
            "operable program or batch file.\n"
          ]
        }
      ],
      "source": [
        "# Download the ham10000 dataset\n",
        "! kaggle datasets download -d kmader/skin-cancer-mnist-ham10000"
      ]
    },
    {
      "cell_type": "code",
      "execution_count": 8,
      "metadata": {
        "id": "pA0yTcvL_F_Z"
      },
      "outputs": [
        {
          "name": "stderr",
          "output_type": "stream",
          "text": [
            "'unzip' is not recognized as an internal or external command,\n",
            "operable program or batch file.\n"
          ]
        }
      ],
      "source": [
        "# Unzip images and place them in a directory\n",
        "!mkdir skin-cancer-mnist-ham10000\n",
        "!unzip /content/skin-cancer-mnist-ham10000.zip -d skin-cancer-mnist-ham10000"
      ]
    },
    {
      "cell_type": "markdown",
      "metadata": {
        "id": "19Y9bJo-PJtC"
      },
      "source": [
        "# Reading a specific csv file"
      ]
    },
    {
      "cell_type": "code",
      "execution_count": 14,
      "metadata": {
        "colab": {
          "base_uri": "https://localhost:8080/",
          "height": 253
        },
        "id": "Uif7QYcpBKFX",
        "outputId": "3c3a81e8-782c-49d0-dca3-ad126f09f6c8",
        "trusted": true
      },
      "outputs": [
        {
          "data": {
            "text/html": [
              "<div>\n",
              "<style scoped>\n",
              "    .dataframe tbody tr th:only-of-type {\n",
              "        vertical-align: middle;\n",
              "    }\n",
              "\n",
              "    .dataframe tbody tr th {\n",
              "        vertical-align: top;\n",
              "    }\n",
              "\n",
              "    .dataframe thead th {\n",
              "        text-align: right;\n",
              "    }\n",
              "</style>\n",
              "<table border=\"1\" class=\"dataframe\">\n",
              "  <thead>\n",
              "    <tr style=\"text-align: right;\">\n",
              "      <th></th>\n",
              "      <th>pixel0000</th>\n",
              "      <th>pixel0001</th>\n",
              "      <th>pixel0002</th>\n",
              "      <th>pixel0003</th>\n",
              "      <th>pixel0004</th>\n",
              "      <th>pixel0005</th>\n",
              "      <th>pixel0006</th>\n",
              "      <th>pixel0007</th>\n",
              "      <th>pixel0008</th>\n",
              "      <th>pixel0009</th>\n",
              "      <th>...</th>\n",
              "      <th>pixel2343</th>\n",
              "      <th>pixel2344</th>\n",
              "      <th>pixel2345</th>\n",
              "      <th>pixel2346</th>\n",
              "      <th>pixel2347</th>\n",
              "      <th>pixel2348</th>\n",
              "      <th>pixel2349</th>\n",
              "      <th>pixel2350</th>\n",
              "      <th>pixel2351</th>\n",
              "      <th>label</th>\n",
              "    </tr>\n",
              "  </thead>\n",
              "  <tbody>\n",
              "    <tr>\n",
              "      <th>6117</th>\n",
              "      <td>223</td>\n",
              "      <td>153</td>\n",
              "      <td>172</td>\n",
              "      <td>229</td>\n",
              "      <td>157</td>\n",
              "      <td>176</td>\n",
              "      <td>232</td>\n",
              "      <td>159</td>\n",
              "      <td>180</td>\n",
              "      <td>232</td>\n",
              "      <td>...</td>\n",
              "      <td>211</td>\n",
              "      <td>150</td>\n",
              "      <td>159</td>\n",
              "      <td>209</td>\n",
              "      <td>142</td>\n",
              "      <td>154</td>\n",
              "      <td>205</td>\n",
              "      <td>135</td>\n",
              "      <td>150</td>\n",
              "      <td>4</td>\n",
              "    </tr>\n",
              "    <tr>\n",
              "      <th>7233</th>\n",
              "      <td>143</td>\n",
              "      <td>125</td>\n",
              "      <td>135</td>\n",
              "      <td>147</td>\n",
              "      <td>132</td>\n",
              "      <td>146</td>\n",
              "      <td>143</td>\n",
              "      <td>125</td>\n",
              "      <td>134</td>\n",
              "      <td>141</td>\n",
              "      <td>...</td>\n",
              "      <td>148</td>\n",
              "      <td>130</td>\n",
              "      <td>139</td>\n",
              "      <td>148</td>\n",
              "      <td>130</td>\n",
              "      <td>141</td>\n",
              "      <td>149</td>\n",
              "      <td>134</td>\n",
              "      <td>146</td>\n",
              "      <td>4</td>\n",
              "    </tr>\n",
              "    <tr>\n",
              "      <th>2406</th>\n",
              "      <td>211</td>\n",
              "      <td>174</td>\n",
              "      <td>189</td>\n",
              "      <td>211</td>\n",
              "      <td>175</td>\n",
              "      <td>187</td>\n",
              "      <td>216</td>\n",
              "      <td>178</td>\n",
              "      <td>192</td>\n",
              "      <td>217</td>\n",
              "      <td>...</td>\n",
              "      <td>212</td>\n",
              "      <td>170</td>\n",
              "      <td>179</td>\n",
              "      <td>211</td>\n",
              "      <td>168</td>\n",
              "      <td>178</td>\n",
              "      <td>207</td>\n",
              "      <td>165</td>\n",
              "      <td>174</td>\n",
              "      <td>5</td>\n",
              "    </tr>\n",
              "    <tr>\n",
              "      <th>1835</th>\n",
              "      <td>1</td>\n",
              "      <td>0</td>\n",
              "      <td>1</td>\n",
              "      <td>10</td>\n",
              "      <td>8</td>\n",
              "      <td>9</td>\n",
              "      <td>18</td>\n",
              "      <td>14</td>\n",
              "      <td>16</td>\n",
              "      <td>51</td>\n",
              "      <td>...</td>\n",
              "      <td>183</td>\n",
              "      <td>161</td>\n",
              "      <td>177</td>\n",
              "      <td>179</td>\n",
              "      <td>161</td>\n",
              "      <td>177</td>\n",
              "      <td>173</td>\n",
              "      <td>154</td>\n",
              "      <td>172</td>\n",
              "      <td>6</td>\n",
              "    </tr>\n",
              "    <tr>\n",
              "      <th>5163</th>\n",
              "      <td>159</td>\n",
              "      <td>77</td>\n",
              "      <td>90</td>\n",
              "      <td>194</td>\n",
              "      <td>107</td>\n",
              "      <td>128</td>\n",
              "      <td>207</td>\n",
              "      <td>121</td>\n",
              "      <td>146</td>\n",
              "      <td>206</td>\n",
              "      <td>...</td>\n",
              "      <td>196</td>\n",
              "      <td>118</td>\n",
              "      <td>121</td>\n",
              "      <td>192</td>\n",
              "      <td>116</td>\n",
              "      <td>120</td>\n",
              "      <td>187</td>\n",
              "      <td>114</td>\n",
              "      <td>117</td>\n",
              "      <td>4</td>\n",
              "    </tr>\n",
              "  </tbody>\n",
              "</table>\n",
              "<p>5 rows × 2353 columns</p>\n",
              "</div>"
            ],
            "text/plain": [
              "      pixel0000  pixel0001  pixel0002  pixel0003  pixel0004  pixel0005  \\\n",
              "6117        223        153        172        229        157        176   \n",
              "7233        143        125        135        147        132        146   \n",
              "2406        211        174        189        211        175        187   \n",
              "1835          1          0          1         10          8          9   \n",
              "5163        159         77         90        194        107        128   \n",
              "\n",
              "      pixel0006  pixel0007  pixel0008  pixel0009  ...  pixel2343  pixel2344  \\\n",
              "6117        232        159        180        232  ...        211        150   \n",
              "7233        143        125        134        141  ...        148        130   \n",
              "2406        216        178        192        217  ...        212        170   \n",
              "1835         18         14         16         51  ...        183        161   \n",
              "5163        207        121        146        206  ...        196        118   \n",
              "\n",
              "      pixel2345  pixel2346  pixel2347  pixel2348  pixel2349  pixel2350  \\\n",
              "6117        159        209        142        154        205        135   \n",
              "7233        139        148        130        141        149        134   \n",
              "2406        179        211        168        178        207        165   \n",
              "1835        177        179        161        177        173        154   \n",
              "5163        121        192        116        120        187        114   \n",
              "\n",
              "      pixel2351  label  \n",
              "6117        150      4  \n",
              "7233        146      4  \n",
              "2406        174      5  \n",
              "1835        172      6  \n",
              "5163        117      4  \n",
              "\n",
              "[5 rows x 2353 columns]"
            ]
          },
          "execution_count": 14,
          "metadata": {},
          "output_type": "execute_result"
        }
      ],
      "source": [
        "df = pd.read_csv('..\\data\\hmnist_28_28_RGB.csv')\n",
        "df = df.sample(frac = 1) # randomize the data\n",
        "data = df.iloc[:,:-1] # extract the pixel data\n",
        "labels = df.iloc[:,-1:] # extract the corresponding labels\n",
        "df.head()"
      ]
    },
    {
      "cell_type": "code",
      "execution_count": 15,
      "metadata": {
        "colab": {
          "base_uri": "https://localhost:8080/",
          "height": 979
        },
        "id": "4RHSWizVBKFX",
        "outputId": "dd69d42f-be92-4d3b-ca07-fc1090f60093",
        "trusted": true
      },
      "outputs": [
        {
          "data": {
            "text/html": [
              "<div>\n",
              "<style scoped>\n",
              "    .dataframe tbody tr th:only-of-type {\n",
              "        vertical-align: middle;\n",
              "    }\n",
              "\n",
              "    .dataframe tbody tr th {\n",
              "        vertical-align: top;\n",
              "    }\n",
              "\n",
              "    .dataframe thead th {\n",
              "        text-align: right;\n",
              "    }\n",
              "</style>\n",
              "<table border=\"1\" class=\"dataframe\">\n",
              "  <thead>\n",
              "    <tr style=\"text-align: right;\">\n",
              "      <th></th>\n",
              "      <th>label</th>\n",
              "    </tr>\n",
              "  </thead>\n",
              "  <tbody>\n",
              "    <tr>\n",
              "      <th>6117</th>\n",
              "      <td>4</td>\n",
              "    </tr>\n",
              "    <tr>\n",
              "      <th>7233</th>\n",
              "      <td>4</td>\n",
              "    </tr>\n",
              "    <tr>\n",
              "      <th>2406</th>\n",
              "      <td>5</td>\n",
              "    </tr>\n",
              "    <tr>\n",
              "      <th>1835</th>\n",
              "      <td>6</td>\n",
              "    </tr>\n",
              "    <tr>\n",
              "      <th>5163</th>\n",
              "      <td>4</td>\n",
              "    </tr>\n",
              "    <tr>\n",
              "      <th>368</th>\n",
              "      <td>2</td>\n",
              "    </tr>\n",
              "    <tr>\n",
              "      <th>5873</th>\n",
              "      <td>4</td>\n",
              "    </tr>\n",
              "    <tr>\n",
              "      <th>5030</th>\n",
              "      <td>4</td>\n",
              "    </tr>\n",
              "    <tr>\n",
              "      <th>6416</th>\n",
              "      <td>4</td>\n",
              "    </tr>\n",
              "    <tr>\n",
              "      <th>5318</th>\n",
              "      <td>4</td>\n",
              "    </tr>\n",
              "    <tr>\n",
              "      <th>2272</th>\n",
              "      <td>6</td>\n",
              "    </tr>\n",
              "    <tr>\n",
              "      <th>7113</th>\n",
              "      <td>4</td>\n",
              "    </tr>\n",
              "    <tr>\n",
              "      <th>9477</th>\n",
              "      <td>4</td>\n",
              "    </tr>\n",
              "    <tr>\n",
              "      <th>1973</th>\n",
              "      <td>6</td>\n",
              "    </tr>\n",
              "    <tr>\n",
              "      <th>9589</th>\n",
              "      <td>4</td>\n",
              "    </tr>\n",
              "    <tr>\n",
              "      <th>6964</th>\n",
              "      <td>4</td>\n",
              "    </tr>\n",
              "    <tr>\n",
              "      <th>404</th>\n",
              "      <td>2</td>\n",
              "    </tr>\n",
              "    <tr>\n",
              "      <th>8119</th>\n",
              "      <td>4</td>\n",
              "    </tr>\n",
              "    <tr>\n",
              "      <th>7187</th>\n",
              "      <td>4</td>\n",
              "    </tr>\n",
              "    <tr>\n",
              "      <th>7831</th>\n",
              "      <td>4</td>\n",
              "    </tr>\n",
              "    <tr>\n",
              "      <th>1704</th>\n",
              "      <td>6</td>\n",
              "    </tr>\n",
              "    <tr>\n",
              "      <th>4993</th>\n",
              "      <td>4</td>\n",
              "    </tr>\n",
              "    <tr>\n",
              "      <th>13</th>\n",
              "      <td>2</td>\n",
              "    </tr>\n",
              "    <tr>\n",
              "      <th>3588</th>\n",
              "      <td>4</td>\n",
              "    </tr>\n",
              "    <tr>\n",
              "      <th>2437</th>\n",
              "      <td>5</td>\n",
              "    </tr>\n",
              "    <tr>\n",
              "      <th>2225</th>\n",
              "      <td>6</td>\n",
              "    </tr>\n",
              "    <tr>\n",
              "      <th>2665</th>\n",
              "      <td>1</td>\n",
              "    </tr>\n",
              "    <tr>\n",
              "      <th>1865</th>\n",
              "      <td>6</td>\n",
              "    </tr>\n",
              "    <tr>\n",
              "      <th>1791</th>\n",
              "      <td>6</td>\n",
              "    </tr>\n",
              "    <tr>\n",
              "      <th>2285</th>\n",
              "      <td>6</td>\n",
              "    </tr>\n",
              "  </tbody>\n",
              "</table>\n",
              "</div>"
            ],
            "text/plain": [
              "      label\n",
              "6117      4\n",
              "7233      4\n",
              "2406      5\n",
              "1835      6\n",
              "5163      4\n",
              "368       2\n",
              "5873      4\n",
              "5030      4\n",
              "6416      4\n",
              "5318      4\n",
              "2272      6\n",
              "7113      4\n",
              "9477      4\n",
              "1973      6\n",
              "9589      4\n",
              "6964      4\n",
              "404       2\n",
              "8119      4\n",
              "7187      4\n",
              "7831      4\n",
              "1704      6\n",
              "4993      4\n",
              "13        2\n",
              "3588      4\n",
              "2437      5\n",
              "2225      6\n",
              "2665      1\n",
              "1865      6\n",
              "1791      6\n",
              "2285      6"
            ]
          },
          "execution_count": 15,
          "metadata": {},
          "output_type": "execute_result"
        }
      ],
      "source": [
        "labels.head(30)"
      ]
    },
    {
      "cell_type": "markdown",
      "metadata": {
        "id": "YdqmvK8tPbRx"
      },
      "source": [
        "# Data distribution"
      ]
    },
    {
      "cell_type": "code",
      "execution_count": 16,
      "metadata": {
        "colab": {
          "base_uri": "https://localhost:8080/",
          "height": 516
        },
        "id": "Lr559HRYBKFY",
        "outputId": "0e38400b-8f2b-4a0b-b449-507eea0715ea",
        "trusted": true
      },
      "outputs": [
        {
          "data": {
            "text/plain": [
              "[Text(0, 0, 'akiec'),\n",
              " Text(1, 0, 'df'),\n",
              " Text(2, 0, 'bkl'),\n",
              " Text(3, 0, 'mel'),\n",
              " Text(4, 0, 'nv'),\n",
              " Text(5, 0, 'vasc'),\n",
              " Text(6, 0, 'bcc')]"
            ]
          },
          "execution_count": 16,
          "metadata": {},
          "output_type": "execute_result"
        },
        {
          "data": {
            "image/png": "[encoded data removed]",
            "text/plain": [
              "<Figure size 800x600 with 1 Axes>"
            ]
          },
          "metadata": {},
          "output_type": "display_data"
        }
      ],
      "source": [
        "type_of_cancer = ['akiec','df','bkl','mel','nv','vasc','bcc']\n",
        "counts = list(labels.value_counts())\n",
        "plt.figure(figsize = (8,6))\n",
        "ax = sns.countplot(x='label', data=df)\n",
        "ax.set_xticklabels(type_of_cancer)"
      ]
    },
    {
      "cell_type": "markdown",
      "metadata": {
        "id": "7MUM-2TsBKFX"
      },
      "source": [
        "The data is heavily imbalanced which leads to a significant effect on the values of metrics"
      ]
    },
    {
      "cell_type": "markdown",
      "metadata": {
        "id": "GqrO8-TjBKFY"
      },
      "source": [
        "We do the following for resolving the problem:\n",
        "\n",
        "1. We duplicated the other classes \"randomly \" other than `nv` class (Data Duplication)\n",
        "\n",
        "\n",
        "2. Generate new images with 'ImageDataGenarator' from Keras (Data Augmentation)"
      ]
    },
    {
      "cell_type": "code",
      "execution_count": 17,
      "metadata": {
        "id": "ZKMg86dGBKFY",
        "trusted": true
      },
      "outputs": [],
      "source": [
        "df = df.sort_values('label') # Sorting the data according to the labels\n",
        "df = df.reset_index()"
      ]
    },
    {
      "cell_type": "code",
      "execution_count": 18,
      "metadata": {
        "colab": {
          "base_uri": "https://localhost:8080/",
          "height": 439
        },
        "id": "fEY06Xa2sF9p",
        "outputId": "3f98d9e7-6b2b-4b9b-98c0-8e6a6bba7823"
      },
      "outputs": [
        {
          "data": {
            "text/html": [
              "<div>\n",
              "<style scoped>\n",
              "    .dataframe tbody tr th:only-of-type {\n",
              "        vertical-align: middle;\n",
              "    }\n",
              "\n",
              "    .dataframe tbody tr th {\n",
              "        vertical-align: top;\n",
              "    }\n",
              "\n",
              "    .dataframe thead th {\n",
              "        text-align: right;\n",
              "    }\n",
              "</style>\n",
              "<table border=\"1\" class=\"dataframe\">\n",
              "  <thead>\n",
              "    <tr style=\"text-align: right;\">\n",
              "      <th></th>\n",
              "      <th>index</th>\n",
              "      <th>pixel0000</th>\n",
              "      <th>pixel0001</th>\n",
              "      <th>pixel0002</th>\n",
              "      <th>pixel0003</th>\n",
              "      <th>pixel0004</th>\n",
              "      <th>pixel0005</th>\n",
              "      <th>pixel0006</th>\n",
              "      <th>pixel0007</th>\n",
              "      <th>pixel0008</th>\n",
              "      <th>...</th>\n",
              "      <th>pixel2343</th>\n",
              "      <th>pixel2344</th>\n",
              "      <th>pixel2345</th>\n",
              "      <th>pixel2346</th>\n",
              "      <th>pixel2347</th>\n",
              "      <th>pixel2348</th>\n",
              "      <th>pixel2349</th>\n",
              "      <th>pixel2350</th>\n",
              "      <th>pixel2351</th>\n",
              "      <th>label</th>\n",
              "    </tr>\n",
              "  </thead>\n",
              "  <tbody>\n",
              "    <tr>\n",
              "      <th>0</th>\n",
              "      <td>9753</td>\n",
              "      <td>149</td>\n",
              "      <td>118</td>\n",
              "      <td>113</td>\n",
              "      <td>155</td>\n",
              "      <td>123</td>\n",
              "      <td>120</td>\n",
              "      <td>158</td>\n",
              "      <td>123</td>\n",
              "      <td>122</td>\n",
              "      <td>...</td>\n",
              "      <td>152</td>\n",
              "      <td>120</td>\n",
              "      <td>121</td>\n",
              "      <td>145</td>\n",
              "      <td>115</td>\n",
              "      <td>120</td>\n",
              "      <td>138</td>\n",
              "      <td>114</td>\n",
              "      <td>118</td>\n",
              "      <td>0</td>\n",
              "    </tr>\n",
              "    <tr>\n",
              "      <th>1</th>\n",
              "      <td>9920</td>\n",
              "      <td>149</td>\n",
              "      <td>126</td>\n",
              "      <td>149</td>\n",
              "      <td>158</td>\n",
              "      <td>135</td>\n",
              "      <td>160</td>\n",
              "      <td>164</td>\n",
              "      <td>141</td>\n",
              "      <td>165</td>\n",
              "      <td>...</td>\n",
              "      <td>156</td>\n",
              "      <td>139</td>\n",
              "      <td>164</td>\n",
              "      <td>146</td>\n",
              "      <td>125</td>\n",
              "      <td>145</td>\n",
              "      <td>139</td>\n",
              "      <td>118</td>\n",
              "      <td>138</td>\n",
              "      <td>0</td>\n",
              "    </tr>\n",
              "    <tr>\n",
              "      <th>2</th>\n",
              "      <td>9877</td>\n",
              "      <td>189</td>\n",
              "      <td>141</td>\n",
              "      <td>119</td>\n",
              "      <td>193</td>\n",
              "      <td>140</td>\n",
              "      <td>126</td>\n",
              "      <td>200</td>\n",
              "      <td>131</td>\n",
              "      <td>123</td>\n",
              "      <td>...</td>\n",
              "      <td>182</td>\n",
              "      <td>106</td>\n",
              "      <td>99</td>\n",
              "      <td>154</td>\n",
              "      <td>97</td>\n",
              "      <td>95</td>\n",
              "      <td>84</td>\n",
              "      <td>50</td>\n",
              "      <td>57</td>\n",
              "      <td>0</td>\n",
              "    </tr>\n",
              "    <tr>\n",
              "      <th>3</th>\n",
              "      <td>9820</td>\n",
              "      <td>188</td>\n",
              "      <td>158</td>\n",
              "      <td>182</td>\n",
              "      <td>190</td>\n",
              "      <td>161</td>\n",
              "      <td>181</td>\n",
              "      <td>190</td>\n",
              "      <td>163</td>\n",
              "      <td>180</td>\n",
              "      <td>...</td>\n",
              "      <td>146</td>\n",
              "      <td>98</td>\n",
              "      <td>110</td>\n",
              "      <td>137</td>\n",
              "      <td>92</td>\n",
              "      <td>102</td>\n",
              "      <td>127</td>\n",
              "      <td>82</td>\n",
              "      <td>92</td>\n",
              "      <td>0</td>\n",
              "    </tr>\n",
              "    <tr>\n",
              "      <th>4</th>\n",
              "      <td>9913</td>\n",
              "      <td>188</td>\n",
              "      <td>146</td>\n",
              "      <td>171</td>\n",
              "      <td>205</td>\n",
              "      <td>165</td>\n",
              "      <td>191</td>\n",
              "      <td>208</td>\n",
              "      <td>169</td>\n",
              "      <td>200</td>\n",
              "      <td>...</td>\n",
              "      <td>198</td>\n",
              "      <td>154</td>\n",
              "      <td>180</td>\n",
              "      <td>199</td>\n",
              "      <td>155</td>\n",
              "      <td>185</td>\n",
              "      <td>199</td>\n",
              "      <td>161</td>\n",
              "      <td>194</td>\n",
              "      <td>0</td>\n",
              "    </tr>\n",
              "    <tr>\n",
              "      <th>...</th>\n",
              "      <td>...</td>\n",
              "      <td>...</td>\n",
              "      <td>...</td>\n",
              "      <td>...</td>\n",
              "      <td>...</td>\n",
              "      <td>...</td>\n",
              "      <td>...</td>\n",
              "      <td>...</td>\n",
              "      <td>...</td>\n",
              "      <td>...</td>\n",
              "      <td>...</td>\n",
              "      <td>...</td>\n",
              "      <td>...</td>\n",
              "      <td>...</td>\n",
              "      <td>...</td>\n",
              "      <td>...</td>\n",
              "      <td>...</td>\n",
              "      <td>...</td>\n",
              "      <td>...</td>\n",
              "      <td>...</td>\n",
              "      <td>...</td>\n",
              "    </tr>\n",
              "    <tr>\n",
              "      <th>10010</th>\n",
              "      <td>1595</td>\n",
              "      <td>105</td>\n",
              "      <td>89</td>\n",
              "      <td>99</td>\n",
              "      <td>128</td>\n",
              "      <td>114</td>\n",
              "      <td>127</td>\n",
              "      <td>139</td>\n",
              "      <td>122</td>\n",
              "      <td>133</td>\n",
              "      <td>...</td>\n",
              "      <td>149</td>\n",
              "      <td>124</td>\n",
              "      <td>124</td>\n",
              "      <td>142</td>\n",
              "      <td>118</td>\n",
              "      <td>120</td>\n",
              "      <td>126</td>\n",
              "      <td>106</td>\n",
              "      <td>112</td>\n",
              "      <td>6</td>\n",
              "    </tr>\n",
              "    <tr>\n",
              "      <th>10011</th>\n",
              "      <td>1625</td>\n",
              "      <td>3</td>\n",
              "      <td>3</td>\n",
              "      <td>2</td>\n",
              "      <td>23</td>\n",
              "      <td>17</td>\n",
              "      <td>16</td>\n",
              "      <td>82</td>\n",
              "      <td>62</td>\n",
              "      <td>61</td>\n",
              "      <td>...</td>\n",
              "      <td>112</td>\n",
              "      <td>80</td>\n",
              "      <td>81</td>\n",
              "      <td>74</td>\n",
              "      <td>51</td>\n",
              "      <td>52</td>\n",
              "      <td>20</td>\n",
              "      <td>14</td>\n",
              "      <td>14</td>\n",
              "      <td>6</td>\n",
              "    </tr>\n",
              "    <tr>\n",
              "      <th>10012</th>\n",
              "      <td>1690</td>\n",
              "      <td>21</td>\n",
              "      <td>12</td>\n",
              "      <td>17</td>\n",
              "      <td>46</td>\n",
              "      <td>26</td>\n",
              "      <td>34</td>\n",
              "      <td>85</td>\n",
              "      <td>56</td>\n",
              "      <td>63</td>\n",
              "      <td>...</td>\n",
              "      <td>142</td>\n",
              "      <td>121</td>\n",
              "      <td>131</td>\n",
              "      <td>131</td>\n",
              "      <td>113</td>\n",
              "      <td>132</td>\n",
              "      <td>92</td>\n",
              "      <td>73</td>\n",
              "      <td>93</td>\n",
              "      <td>6</td>\n",
              "    </tr>\n",
              "    <tr>\n",
              "      <th>10013</th>\n",
              "      <td>2135</td>\n",
              "      <td>191</td>\n",
              "      <td>168</td>\n",
              "      <td>175</td>\n",
              "      <td>193</td>\n",
              "      <td>168</td>\n",
              "      <td>171</td>\n",
              "      <td>197</td>\n",
              "      <td>171</td>\n",
              "      <td>177</td>\n",
              "      <td>...</td>\n",
              "      <td>159</td>\n",
              "      <td>135</td>\n",
              "      <td>134</td>\n",
              "      <td>157</td>\n",
              "      <td>134</td>\n",
              "      <td>137</td>\n",
              "      <td>150</td>\n",
              "      <td>125</td>\n",
              "      <td>128</td>\n",
              "      <td>6</td>\n",
              "    </tr>\n",
              "    <tr>\n",
              "      <th>10014</th>\n",
              "      <td>1680</td>\n",
              "      <td>0</td>\n",
              "      <td>0</td>\n",
              "      <td>0</td>\n",
              "      <td>0</td>\n",
              "      <td>0</td>\n",
              "      <td>0</td>\n",
              "      <td>10</td>\n",
              "      <td>6</td>\n",
              "      <td>7</td>\n",
              "      <td>...</td>\n",
              "      <td>29</td>\n",
              "      <td>16</td>\n",
              "      <td>22</td>\n",
              "      <td>9</td>\n",
              "      <td>6</td>\n",
              "      <td>7</td>\n",
              "      <td>0</td>\n",
              "      <td>0</td>\n",
              "      <td>0</td>\n",
              "      <td>6</td>\n",
              "    </tr>\n",
              "  </tbody>\n",
              "</table>\n",
              "<p>10015 rows × 2354 columns</p>\n",
              "</div>"
            ],
            "text/plain": [
              "       index  pixel0000  pixel0001  pixel0002  pixel0003  pixel0004  \\\n",
              "0       9753        149        118        113        155        123   \n",
              "1       9920        149        126        149        158        135   \n",
              "2       9877        189        141        119        193        140   \n",
              "3       9820        188        158        182        190        161   \n",
              "4       9913        188        146        171        205        165   \n",
              "...      ...        ...        ...        ...        ...        ...   \n",
              "10010   1595        105         89         99        128        114   \n",
              "10011   1625          3          3          2         23         17   \n",
              "10012   1690         21         12         17         46         26   \n",
              "10013   2135        191        168        175        193        168   \n",
              "10014   1680          0          0          0          0          0   \n",
              "\n",
              "       pixel0005  pixel0006  pixel0007  pixel0008  ...  pixel2343  pixel2344  \\\n",
              "0            120        158        123        122  ...        152        120   \n",
              "1            160        164        141        165  ...        156        139   \n",
              "2            126        200        131        123  ...        182        106   \n",
              "3            181        190        163        180  ...        146         98   \n",
              "4            191        208        169        200  ...        198        154   \n",
              "...          ...        ...        ...        ...  ...        ...        ...   \n",
              "10010        127        139        122        133  ...        149        124   \n",
              "10011         16         82         62         61  ...        112         80   \n",
              "10012         34         85         56         63  ...        142        121   \n",
              "10013        171        197        171        177  ...        159        135   \n",
              "10014          0         10          6          7  ...         29         16   \n",
              "\n",
              "       pixel2345  pixel2346  pixel2347  pixel2348  pixel2349  pixel2350  \\\n",
              "0            121        145        115        120        138        114   \n",
              "1            164        146        125        145        139        118   \n",
              "2             99        154         97         95         84         50   \n",
              "3            110        137         92        102        127         82   \n",
              "4            180        199        155        185        199        161   \n",
              "...          ...        ...        ...        ...        ...        ...   \n",
              "10010        124        142        118        120        126        106   \n",
              "10011         81         74         51         52         20         14   \n",
              "10012        131        131        113        132         92         73   \n",
              "10013        134        157        134        137        150        125   \n",
              "10014         22          9          6          7          0          0   \n",
              "\n",
              "       pixel2351  label  \n",
              "0            118      0  \n",
              "1            138      0  \n",
              "2             57      0  \n",
              "3             92      0  \n",
              "4            194      0  \n",
              "...          ...    ...  \n",
              "10010        112      6  \n",
              "10011         14      6  \n",
              "10012         93      6  \n",
              "10013        128      6  \n",
              "10014          0      6  \n",
              "\n",
              "[10015 rows x 2354 columns]"
            ]
          },
          "execution_count": 18,
          "metadata": {},
          "output_type": "execute_result"
        }
      ],
      "source": [
        "df"
      ]
    },
    {
      "cell_type": "markdown",
      "metadata": {
        "id": "XuxknKHGQJwS"
      },
      "source": [
        "# Data Duplication\n",
        "\n",
        "Here we duplicate the class of the data for some amount of times.\n",
        "\n",
        "The 4th index is ignored as it is the imbalanced class."
      ]
    },
    {
      "cell_type": "code",
      "execution_count": 19,
      "metadata": {
        "id": "3H_NoI6NBKFZ",
        "trusted": true
      },
      "outputs": [],
      "source": [
        "index0 = df[df['label'] == 0].index.values\n",
        "index1 = df[df['label'] == 1].index.values\n",
        "index2 = df[df['label'] == 2].index.values\n",
        "index3 = df[df['label'] == 3].index.values\n",
        "index5 = df[df['label'] == 5].index.values\n",
        "index6 = df[df['label'] == 6].index.values"
      ]
    },
    {
      "cell_type": "code",
      "execution_count": 20,
      "metadata": {
        "id": "E9LhYgP9BKFZ",
        "trusted": true
      },
      "outputs": [],
      "source": [
        "\n",
        "df0 = df.iloc[int(min(index0)):int(max(index0)+1)]\n",
        "df1 = df.iloc[int(min(index1)):int(max(index1)+1)]\n",
        "df2 = df.iloc[int(min(index2)):int(max(index2)+1)]\n",
        "df3 = df.iloc[int(min(index3)):int(max(index3)+1)]\n",
        "df5 = df.iloc[int(min(index5)):int(max(index5)+1)]\n",
        "df6 = df.iloc[int(min(index6)):int(max(index6)+1)]\n"
      ]
    },
    {
      "cell_type": "markdown",
      "metadata": {
        "id": "yTLHQnY2BKFZ"
      },
      "source": [
        "We have taken some random optimal values to centralize the new data which contains the duplicated data along with the previous data."
      ]
    },
    {
      "cell_type": "code",
      "execution_count": 21,
      "metadata": {
        "id": "D2q4R1q8BKFZ",
        "trusted": true
      },
      "outputs": [
        {
          "name": "stderr",
          "output_type": "stream",
          "text": [
            "C:\\Users\\Lenovo\\AppData\\Local\\Temp\\ipykernel_21152\\2395392282.py:1: FutureWarning: The frame.append method is deprecated and will be removed from pandas in a future version. Use pandas.concat instead.\n",
            "  df_index0 = df0.append([df0]*17, ignore_index = True)\n",
            "C:\\Users\\Lenovo\\AppData\\Local\\Temp\\ipykernel_21152\\2395392282.py:2: FutureWarning: The frame.append method is deprecated and will be removed from pandas in a future version. Use pandas.concat instead.\n",
            "  df_index1 = df1.append([df1]*15, ignore_index = True)\n",
            "C:\\Users\\Lenovo\\AppData\\Local\\Temp\\ipykernel_21152\\2395392282.py:3: FutureWarning: The frame.append method is deprecated and will be removed from pandas in a future version. Use pandas.concat instead.\n",
            "  df_index2 = df2.append([df2]*5, ignore_index = True)\n",
            "C:\\Users\\Lenovo\\AppData\\Local\\Temp\\ipykernel_21152\\2395392282.py:4: FutureWarning: The frame.append method is deprecated and will be removed from pandas in a future version. Use pandas.concat instead.\n",
            "  df_index3 = df3.append([df3]*52, ignore_index = True)\n",
            "C:\\Users\\Lenovo\\AppData\\Local\\Temp\\ipykernel_21152\\2395392282.py:5: FutureWarning: The frame.append method is deprecated and will be removed from pandas in a future version. Use pandas.concat instead.\n",
            "  df_index5 = df5.append([df5]*45, ignore_index = True)\n",
            "C:\\Users\\Lenovo\\AppData\\Local\\Temp\\ipykernel_21152\\2395392282.py:6: FutureWarning: The frame.append method is deprecated and will be removed from pandas in a future version. Use pandas.concat instead.\n",
            "  df_index6 = df6.append([df6]*5, ignore_index = True)\n"
          ]
        }
      ],
      "source": [
        "\n",
        "df_index0 = df0.append([df0]*17, ignore_index = True)\n",
        "df_index1 = df1.append([df1]*15, ignore_index = True)\n",
        "df_index2 = df2.append([df2]*5, ignore_index = True)\n",
        "df_index3 = df3.append([df3]*52, ignore_index = True)\n",
        "df_index5 = df5.append([df5]*45, ignore_index = True)\n",
        "df_index6 = df6.append([df6]*5, ignore_index = True)\n",
        "\n",
        "frames = [df, df_index0, df_index1, df_index2, df_index3, df_index5, df_index6]"
      ]
    },
    {
      "cell_type": "code",
      "execution_count": 22,
      "metadata": {
        "id": "7yBwdPudBKFa",
        "trusted": true
      },
      "outputs": [],
      "source": [
        "# Concatenating all the feature dataframes to form the final dataframe\n",
        "final_df = pd.concat(frames)\n",
        "final_df.drop('index', inplace = True, axis = 1)\n",
        "final_df = final_df.sample(frac = 1)\n",
        "data = final_df.iloc[:,:-1]\n",
        "labels = final_df.iloc[:,-1:]"
      ]
    },
    {
      "cell_type": "markdown",
      "metadata": {
        "id": "cxkbOo5yBKFa"
      },
      "source": [
        "### We can now see that The Distribution of The  classes are more Normalized and More Balanced"
      ]
    },
    {
      "cell_type": "code",
      "execution_count": 23,
      "metadata": {
        "colab": {
          "base_uri": "https://localhost:8080/",
          "height": 516
        },
        "id": "MV9drKUyBKFa",
        "outputId": "0116fb81-6303-46b2-8a79-0b0cf7bb63d5",
        "trusted": true
      },
      "outputs": [
        {
          "data": {
            "text/plain": [
              "[Text(0, 0, 'akiec'),\n",
              " Text(1, 0, 'df'),\n",
              " Text(2, 0, 'bkl'),\n",
              " Text(3, 0, 'mel'),\n",
              " Text(4, 0, 'nv'),\n",
              " Text(5, 0, 'vasc'),\n",
              " Text(6, 0, 'bcc')]"
            ]
          },
          "execution_count": 23,
          "metadata": {},
          "output_type": "execute_result"
        },
        {
          "data": {
            "image/png": "[encoded data removed]",
            "text/plain": [
              "<Figure size 800x600 with 1 Axes>"
            ]
          },
          "metadata": {},
          "output_type": "display_data"
        }
      ],
      "source": [
        "type_of_cancer = ['akiec','df','bkl','mel','nv','vasc','bcc']\n",
        "counts = list(labels.value_counts())\n",
        "plt.figure(figsize = (8,6))\n",
        "ax = sns.countplot(x='label', data=df)\n",
        "ax.set_xticklabels(type_of_cancer)"
      ]
    },
    {
      "cell_type": "markdown",
      "metadata": {
        "id": "IM0v-6xaRBeg"
      },
      "source": [
        "# Image data preprocessing"
      ]
    },
    {
      "cell_type": "markdown",
      "metadata": {
        "id": "zj5rZnYxBKFa"
      },
      "source": [
        "Now we can divide the data. \n",
        "\n",
        "X : feature \"for the data \"\n",
        "\n",
        "Y : labels \"for the lables\"\n",
        "\n",
        "\n",
        "\n"
      ]
    },
    {
      "cell_type": "code",
      "execution_count": 24,
      "metadata": {
        "id": "6_li0YwtBKFb",
        "trusted": true
      },
      "outputs": [],
      "source": [
        "X = np.array(data)\n",
        "Y = np.array(labels)"
      ]
    },
    {
      "cell_type": "markdown",
      "metadata": {
        "id": "UztpdcXKBKFb"
      },
      "source": [
        "## Reshaping the data"
      ]
    },
    {
      "cell_type": "code",
      "execution_count": 25,
      "metadata": {
        "colab": {
          "base_uri": "https://localhost:8080/"
        },
        "id": "ABCopCHyBKFb",
        "outputId": "f3035cab-ba16-4a0b-aa8b-f63cb659309e",
        "trusted": true
      },
      "outputs": [
        {
          "name": "stdout",
          "output_type": "stream",
          "text": [
            "(50024, 28, 28, 3)\n",
            "(50024, 1)\n"
          ]
        }
      ],
      "source": [
        "\n",
        "X = X.reshape(-1,28,28,3)\n",
        "\n",
        "print( X.shape)\n",
        "print( Y.shape)"
      ]
    },
    {
      "cell_type": "markdown",
      "metadata": {
        "id": "lpaPWY4oBKFb"
      },
      "source": [
        "## Normalizing the data "
      ]
    },
    {
      "cell_type": "code",
      "execution_count": 26,
      "metadata": {
        "id": "ytbZIDT7BKFc",
        "trusted": true
      },
      "outputs": [],
      "source": [
        "X = (X-np.mean(X))/np.std(X)"
      ]
    },
    {
      "cell_type": "markdown",
      "metadata": {
        "id": "-4d8CamiBKFc"
      },
      "source": [
        "## Splitting the data into train and the test data"
      ]
    },
    {
      "cell_type": "code",
      "execution_count": 27,
      "metadata": {
        "colab": {
          "base_uri": "https://localhost:8080/"
        },
        "id": "9PvY_iurBKFc",
        "outputId": "d397532b-f87a-4e3c-aa96-e1c311ce0172",
        "trusted": true
      },
      "outputs": [
        {
          "name": "stdout",
          "output_type": "stream",
          "text": [
            "(40019, 28, 28, 3)\n",
            "(10005, 28, 28, 3)\n",
            "(40019, 1)\n",
            "(10005, 1)\n"
          ]
        }
      ],
      "source": [
        "X_train, X_test, Y_train, Y_test = train_test_split(X, Y, test_size=0.2, random_state=1)\n",
        "\n",
        "print( X_train.shape)\n",
        "print( X_test.shape)\n",
        "print( Y_train.shape)\n",
        "print( Y_test.shape)\n",
        "\n"
      ]
    },
    {
      "cell_type": "markdown",
      "metadata": {
        "id": "S13dH1PMBKFc"
      },
      "source": [
        "# Data Augmentation with ImageDataGenerator"
      ]
    },
    {
      "cell_type": "code",
      "execution_count": 28,
      "metadata": {
        "id": "yPQbQXNRBKFc",
        "trusted": true
      },
      "outputs": [],
      "source": [
        "\n",
        "train_datagen = ImageDataGenerator(rescale = 1./255,\n",
        "                                  rotation_range = 10,\n",
        "                                  width_shift_range = 0.2,\n",
        "                                  height_shift_range = 0.2,\n",
        "                                  shear_range = 0.2,\n",
        "                                  horizontal_flip = True,\n",
        "                                  vertical_flip = True,\n",
        "                                  fill_mode = 'nearest')\n",
        "train_datagen.fit(X_train)\n",
        "\n",
        "test_datagen = ImageDataGenerator(rescale = 1./255)\n",
        "test_datagen.fit(X_test)\n",
        "\n",
        "train_data = train_datagen.flow(X_train, Y_train, batch_size = 64)\n",
        "test_data = test_datagen.flow(X_test, Y_test, batch_size = 64)"
      ]
    },
    {
      "cell_type": "markdown",
      "metadata": {
        "id": "y7uJ26WPBKFd"
      },
      "source": [
        "# Modeling"
      ]
    },
    {
      "cell_type": "markdown",
      "metadata": {
        "id": "Ga-SzRvkRb2A"
      },
      "source": [
        "## Model architecture"
      ]
    },
    {
      "cell_type": "code",
      "execution_count": 29,
      "metadata": {
        "id": "Yzcsah41BKFd",
        "trusted": true
      },
      "outputs": [],
      "source": [
        "model = Sequential([\n",
        "    \n",
        "    Conv2D(16, kernel_size = (3,3), input_shape = (28, 28, 3), activation = 'relu', padding = 'same'),\n",
        "    Conv2D(32, kernel_size = (3,3), activation = 'relu'),\n",
        "    MaxPool2D(pool_size = (2,2)),\n",
        "\n",
        "    Conv2D(32, kernel_size = (3,3), activation = 'relu', padding = 'same'),\n",
        "    Conv2D(64, kernel_size = (3,3), activation = 'relu'),\n",
        "    MaxPool2D(pool_size = (2,2), padding = 'same'),\n",
        "\n",
        "    Conv2D(64, kernel_size = (3,3), activation = 'relu'),\n",
        "    Conv2D(64, kernel_size = (3,3), activation = 'relu', padding = 'same'),\n",
        "    MaxPool2D(pool_size = (2,2), padding = 'same'),\n",
        "\n",
        "    Flatten(),\n",
        "    \n",
        "    Dense(64, activation='relu'),\n",
        "    Dense(64, activation='relu'),\n",
        "    Dense(32, activation='relu'),\n",
        "    Dense(32, activation='relu'),\n",
        "    Dense(7, activation='softmax')]\n",
        ")\n"
      ]
    },
    {
      "cell_type": "markdown",
      "metadata": {
        "id": "2Dq4pm7GBKFe"
      },
      "source": [
        "### Adjusting learning rate and the optimizer "
      ]
    },
    {
      "cell_type": "code",
      "execution_count": 30,
      "metadata": {
        "id": "VAUTXbOVBKFe",
        "trusted": true
      },
      "outputs": [],
      "source": [
        "\n",
        "learning_rate_reduction = ReduceLROnPlateau(monitor='val_accuracy', \n",
        "                                            patience=3, \n",
        "                                            verbose=1, \n",
        "                                            factor=0.5, \n",
        "                                            min_lr=0.00001)\n",
        "\n",
        "optimizer = tf.keras.optimizers.Adam(learning_rate = 0.00075,\n",
        "                                    beta_1 = 0.9,\n",
        "                                    beta_2 = 0.999,\n",
        "                                    epsilon = 1e-8)"
      ]
    },
    {
      "cell_type": "code",
      "execution_count": 31,
      "metadata": {
        "id": "UbiHiR-TBKFe",
        "trusted": true
      },
      "outputs": [],
      "source": [
        "\n",
        "model.compile(optimizer = optimizer,\n",
        "              loss = 'sparse_categorical_crossentropy',\n",
        "              metrics = ['accuracy'])"
      ]
    },
    {
      "cell_type": "code",
      "execution_count": 32,
      "metadata": {
        "colab": {
          "base_uri": "https://localhost:8080/"
        },
        "id": "kPTbHtB8BKFe",
        "outputId": "f866bd8d-0ce4-46b4-81f1-323ef8dd44de",
        "trusted": true
      },
      "outputs": [
        {
          "name": "stdout",
          "output_type": "stream",
          "text": [
            "Model: \"sequential\"\n",
            "_________________________________________________________________\n",
            " Layer (type)                Output Shape              Param #   \n",
            "=================================================================\n",
            " conv2d (Conv2D)             (None, 28, 28, 16)        448       \n",
            "                                                                 \n",
            " conv2d_1 (Conv2D)           (None, 26, 26, 32)        4640      \n",
            "                                                                 \n",
            " max_pooling2d (MaxPooling2D  (None, 13, 13, 32)       0         \n",
            " )                                                               \n",
            "                                                                 \n",
            " conv2d_2 (Conv2D)           (None, 13, 13, 32)        9248      \n",
            "                                                                 \n",
            " conv2d_3 (Conv2D)           (None, 11, 11, 64)        18496     \n",
            "                                                                 \n",
            " max_pooling2d_1 (MaxPooling  (None, 6, 6, 64)         0         \n",
            " 2D)                                                             \n",
            "                                                                 \n",
            " conv2d_4 (Conv2D)           (None, 4, 4, 64)          36928     \n",
            "                                                                 \n",
            " conv2d_5 (Conv2D)           (None, 4, 4, 64)          36928     \n",
            "                                                                 \n",
            " max_pooling2d_2 (MaxPooling  (None, 2, 2, 64)         0         \n",
            " 2D)                                                             \n",
            "                                                                 \n",
            " flatten (Flatten)           (None, 256)               0         \n",
            "                                                                 \n",
            " dense (Dense)               (None, 64)                16448     \n",
            "                                                                 \n",
            " dense_1 (Dense)             (None, 64)                4160      \n",
            "                                                                 \n",
            " dense_2 (Dense)             (None, 32)                2080      \n",
            "                                                                 \n",
            " dense_3 (Dense)             (None, 32)                1056      \n",
            "                                                                 \n",
            " dense_4 (Dense)             (None, 7)                 231       \n",
            "                                                                 \n",
            "=================================================================\n",
            "Total params: 130,663\n",
            "Trainable params: 130,663\n",
            "Non-trainable params: 0\n",
            "_________________________________________________________________\n"
          ]
        }
      ],
      "source": [
        "model.summary()"
      ]
    },
    {
      "cell_type": "code",
      "execution_count": 33,
      "metadata": {
        "colab": {
          "base_uri": "https://localhost:8080/",
          "height": 1000
        },
        "id": "twVHr3F9BKFe",
        "outputId": "5cf584a9-de4c-49dd-b76a-211996e4aa99",
        "trusted": true
      },
      "outputs": [
        {
          "data": {
            "image/png": "[encoded data removed]",
            "text/plain": [
              "<IPython.core.display.Image object>"
            ]
          },
          "execution_count": 33,
          "metadata": {},
          "output_type": "execute_result"
        }
      ],
      "source": [
        "from keras.utils.vis_utils import plot_model\n",
        "plot_model(model, to_file='model_plot.png', show_shapes=True, show_layer_names=True)"
      ]
    },
    {
      "cell_type": "markdown",
      "metadata": {
        "id": "i4X13-fNRoO0"
      },
      "source": [
        "## Fitting the model"
      ]
    },
    {
      "cell_type": "code",
      "execution_count": 34,
      "metadata": {
        "colab": {
          "base_uri": "https://localhost:8080/"
        },
        "id": "Cwur12_bBKFf",
        "outputId": "193eba2c-8b81-4d51-eb6d-4e257c54f940",
        "trusted": true
      },
      "outputs": [
        {
          "name": "stdout",
          "output_type": "stream",
          "text": [
            "Epoch 1/20\n",
            "501/501 [==============================] - 65s 121ms/step - loss: 1.3786 - accuracy: 0.4455 - val_loss: 1.0577 - val_accuracy: 0.5813 - lr: 7.5000e-04\n",
            "Epoch 2/20\n",
            "501/501 [==============================] - 62s 124ms/step - loss: 0.9167 - accuracy: 0.6440 - val_loss: 0.7087 - val_accuracy: 0.7243 - lr: 7.5000e-04\n",
            "Epoch 3/20\n",
            "501/501 [==============================] - 60s 120ms/step - loss: 0.5814 - accuracy: 0.7817 - val_loss: 0.6003 - val_accuracy: 0.7711 - lr: 7.5000e-04\n",
            "Epoch 4/20\n",
            "501/501 [==============================] - 55s 110ms/step - loss: 0.4195 - accuracy: 0.8452 - val_loss: 0.3873 - val_accuracy: 0.8547 - lr: 7.5000e-04\n",
            "Epoch 5/20\n",
            "501/501 [==============================] - 59s 118ms/step - loss: 0.3239 - accuracy: 0.8787 - val_loss: 0.2993 - val_accuracy: 0.8892 - lr: 7.5000e-04\n",
            "Epoch 6/20\n",
            "501/501 [==============================] - 58s 116ms/step - loss: 0.2511 - accuracy: 0.9062 - val_loss: 0.2914 - val_accuracy: 0.8957 - lr: 7.5000e-04\n",
            "Epoch 7/20\n",
            "501/501 [==============================] - 57s 115ms/step - loss: 0.2120 - accuracy: 0.9220 - val_loss: 0.2386 - val_accuracy: 0.9100 - lr: 7.5000e-04\n",
            "Epoch 8/20\n",
            "501/501 [==============================] - 61s 122ms/step - loss: 0.1827 - accuracy: 0.9319 - val_loss: 0.2359 - val_accuracy: 0.9124 - lr: 7.5000e-04\n",
            "Epoch 9/20\n",
            "501/501 [==============================] - 59s 117ms/step - loss: 0.1494 - accuracy: 0.9453 - val_loss: 0.1549 - val_accuracy: 0.9459 - lr: 7.5000e-04\n",
            "Epoch 10/20\n",
            "501/501 [==============================] - 58s 116ms/step - loss: 0.1188 - accuracy: 0.9554 - val_loss: 0.1387 - val_accuracy: 0.9573 - lr: 7.5000e-04\n",
            "Epoch 11/20\n",
            "501/501 [==============================] - 57s 113ms/step - loss: 0.1255 - accuracy: 0.9547 - val_loss: 0.1409 - val_accuracy: 0.9541 - lr: 7.5000e-04\n",
            "Epoch 12/20\n",
            "501/501 [==============================] - 57s 114ms/step - loss: 0.0975 - accuracy: 0.9646 - val_loss: 0.1469 - val_accuracy: 0.9488 - lr: 7.5000e-04\n",
            "Epoch 13/20\n",
            "500/501 [============================>.] - ETA: 0s - loss: 0.1119 - accuracy: 0.9597\n",
            "Epoch 13: ReduceLROnPlateau reducing learning rate to 0.000375000003259629.\n",
            "501/501 [==============================] - 57s 113ms/step - loss: 0.1119 - accuracy: 0.9597 - val_loss: 0.1294 - val_accuracy: 0.9539 - lr: 7.5000e-04\n",
            "Epoch 14/20\n",
            "501/501 [==============================] - 56s 112ms/step - loss: 0.0315 - accuracy: 0.9903 - val_loss: 0.0826 - val_accuracy: 0.9763 - lr: 3.7500e-04\n",
            "Epoch 15/20\n",
            "501/501 [==============================] - 57s 114ms/step - loss: 0.0202 - accuracy: 0.9932 - val_loss: 0.1049 - val_accuracy: 0.9756 - lr: 3.7500e-04\n",
            "Epoch 16/20\n",
            "501/501 [==============================] - 56s 112ms/step - loss: 0.0227 - accuracy: 0.9917 - val_loss: 0.0929 - val_accuracy: 0.9759 - lr: 3.7500e-04\n",
            "Epoch 17/20\n",
            "500/501 [============================>.] - ETA: 0s - loss: 0.0312 - accuracy: 0.9897\n",
            "Epoch 17: ReduceLROnPlateau reducing learning rate to 0.0001875000016298145.\n",
            "501/501 [==============================] - 56s 112ms/step - loss: 0.0312 - accuracy: 0.9897 - val_loss: 0.0965 - val_accuracy: 0.9725 - lr: 3.7500e-04\n",
            "Epoch 18/20\n",
            "501/501 [==============================] - 57s 113ms/step - loss: 0.0074 - accuracy: 0.9981 - val_loss: 0.0779 - val_accuracy: 0.9831 - lr: 1.8750e-04\n",
            "Epoch 19/20\n",
            "501/501 [==============================] - 57s 114ms/step - loss: 0.0014 - accuracy: 0.9999 - val_loss: 0.0779 - val_accuracy: 0.9844 - lr: 1.8750e-04\n",
            "Epoch 20/20\n",
            "501/501 [==============================] - 58s 117ms/step - loss: 5.1418e-04 - accuracy: 1.0000 - val_loss: 0.0868 - val_accuracy: 0.9834 - lr: 1.8750e-04\n"
          ]
        }
      ],
      "source": [
        "epochs = 20\n",
        "\n",
        "history = model.fit(X_train,\n",
        "                    Y_train,\n",
        "                    validation_split=0.2,\n",
        "                    batch_size = 64,\n",
        "                    epochs = epochs,\n",
        "                    callbacks=[learning_rate_reduction]) "
      ]
    },
    {
      "cell_type": "markdown",
      "metadata": {
        "id": "AVEn5lqVBKFf"
      },
      "source": [
        "# Model Evaluation on test data"
      ]
    },
    {
      "cell_type": "code",
      "execution_count": 35,
      "metadata": {
        "colab": {
          "base_uri": "https://localhost:8080/"
        },
        "id": "LZVTWqC8BKFf",
        "outputId": "bf877d44-bcc5-4a03-b7a4-3827bdb70a67",
        "trusted": true
      },
      "outputs": [
        {
          "name": "stdout",
          "output_type": "stream",
          "text": [
            "the test model accuracy = 98.22089076042175\n"
          ]
        }
      ],
      "source": [
        "model_acc_test = model.evaluate(X_test, Y_test, verbose=0)[1]\n",
        "print(\"the test model accuracy =\",model_acc_test * 100)"
      ]
    },
    {
      "cell_type": "markdown",
      "metadata": {
        "id": "Fn1GMYgJBKFf"
      },
      "source": [
        "# Model Performance measures"
      ]
    },
    {
      "cell_type": "code",
      "execution_count": 36,
      "metadata": {
        "colab": {
          "base_uri": "https://localhost:8080/",
          "height": 408
        },
        "id": "6vpr--zrBKFf",
        "outputId": "0f625543-a120-48ec-cc32-75bc9b998122",
        "trusted": true
      },
      "outputs": [
        {
          "data": {
            "text/plain": [
              "<matplotlib.legend.Legend at 0x26610376190>"
            ]
          },
          "execution_count": 36,
          "metadata": {},
          "output_type": "execute_result"
        },
        {
          "data": {
            "image/png": "[encoded data removed]",
            "text/plain": [
              "<Figure size 800x600 with 1 Axes>"
            ]
          },
          "metadata": {},
          "output_type": "display_data"
        }
      ],
      "source": [
        "ACC = history.history['accuracy']\n",
        "VAL_ACC = history.history['val_accuracy']\n",
        "\n",
        "plt.figure(figsize=(8,6))\n",
        "plt.title(\"the accuracy of the training and validation phase of the model\")\n",
        "plt.plot(ACC, label = 'train_acc')\n",
        "plt.plot(VAL_ACC, label = 'val_acc')\n",
        "plt.legend()"
      ]
    },
    {
      "cell_type": "code",
      "execution_count": 37,
      "metadata": {
        "colab": {
          "base_uri": "https://localhost:8080/",
          "height": 408
        },
        "id": "p3rKhWGEBKFg",
        "outputId": "16d3b512-46dd-4a70-c7ad-ab2ae66c4284",
        "trusted": true
      },
      "outputs": [
        {
          "data": {
            "text/plain": [
              "<matplotlib.legend.Legend at 0x2660fc8a6d0>"
            ]
          },
          "execution_count": 37,
          "metadata": {},
          "output_type": "execute_result"
        },
        {
          "data": {
            "image/png": "[encoded data removed]",
            "text/plain": [
              "<Figure size 800x600 with 1 Axes>"
            ]
          },
          "metadata": {},
          "output_type": "display_data"
        }
      ],
      "source": [
        "LOSS = history.history['loss']\n",
        "VAL_LOSS = history.history['val_loss']\n",
        "\n",
        "plt.figure(figsize=(8,6))\n",
        "plt.title(\"the loss of the training and validation phase of the model\")\n",
        "plt.plot(LOSS, label = 'train_loss')\n",
        "plt.plot(VAL_LOSS, label = 'val_loss')\n",
        "plt.legend()"
      ]
    },
    {
      "cell_type": "markdown",
      "metadata": {
        "id": "syEfQywRBKFg"
      },
      "source": [
        "## Confusion Matrix"
      ]
    },
    {
      "cell_type": "code",
      "execution_count": 38,
      "metadata": {
        "colab": {
          "base_uri": "https://localhost:8080/",
          "height": 408
        },
        "id": "YCH-V1eDBKFg",
        "outputId": "2e8fb16a-4e61-4e92-b83c-3fad7e12d2a2",
        "trusted": true
      },
      "outputs": [
        {
          "name": "stdout",
          "output_type": "stream",
          "text": [
            "313/313 [==============================] - 5s 15ms/step\n"
          ]
        },
        {
          "data": {
            "text/plain": [
              "<Axes: title={'center': 'the confusion matrix of the model in the train'}>"
            ]
          },
          "execution_count": 38,
          "metadata": {},
          "output_type": "execute_result"
        },
        {
          "data": {
            "image/png": "[encoded data removed]",
            "text/plain": [
              "<Figure size 1200x600 with 2 Axes>"
            ]
          },
          "metadata": {},
          "output_type": "display_data"
        }
      ],
      "source": [
        "\n",
        "Y_true = np.array(Y_test)\n",
        "\n",
        "Y_pred = model.predict(X_test)\n",
        "Y_pred = np.array(list(map(lambda x: np.argmax(x), Y_pred)))\n",
        "\n",
        "cm1 = confusion_matrix(Y_true, Y_pred)\n",
        "plt.figure(figsize=(12, 6))\n",
        "plt.title('the confusion matrix of the model in the train')\n",
        "sns.heatmap(cm1, annot = True, fmt = 'g' ,vmin = 0, cmap = 'binary')"
      ]
    },
    {
      "cell_type": "markdown",
      "metadata": {
        "id": "NpfeM930BKFg"
      },
      "source": [
        "# Classification report\n",
        "\n",
        "- precision\n",
        "\n",
        "- recall\n",
        "\n",
        "- f1-score\n",
        "\n",
        "- accuracy"
      ]
    },
    {
      "cell_type": "code",
      "execution_count": 39,
      "metadata": {
        "colab": {
          "base_uri": "https://localhost:8080/"
        },
        "id": "wvZ8iNcjBKFg",
        "outputId": "663c699e-b960-49a9-d36b-a3749c178c8b",
        "trusted": true
      },
      "outputs": [
        {
          "name": "stdout",
          "output_type": "stream",
          "text": [
            "              precision    recall  f1-score   support\n",
            "\n",
            "          nv       1.00      1.00      1.00      1217\n",
            "         mel       0.99      1.00      1.00      1742\n",
            "         bkl       0.97      1.00      0.98      1531\n",
            "         bcc       1.00      1.00      1.00      1265\n",
            "       akiec       1.00      0.87      0.93      1381\n",
            "        vasc       0.99      1.00      1.00      1282\n",
            "          df       0.94      1.00      0.97      1587\n",
            "\n",
            "    accuracy                           0.98     10005\n",
            "   macro avg       0.98      0.98      0.98     10005\n",
            "weighted avg       0.98      0.98      0.98     10005\n",
            "\n"
          ]
        }
      ],
      "source": [
        "label_mapping = {\n",
        "    0: 'nv',\n",
        "    1: 'mel',\n",
        "    2: 'bkl',\n",
        "    3: 'bcc',\n",
        "    4: 'akiec',\n",
        "    5: 'vasc',\n",
        "    6: 'df'\n",
        "}\n",
        "\n",
        "classification_report_model = classification_report(Y_true, Y_pred, target_names=label_mapping.values())\n",
        "print(classification_report_model)"
      ]
    },
    {
      "cell_type": "markdown",
      "metadata": {
        "id": "KlM-sH2hSFXE"
      },
      "source": [
        "# Saving the model for further use"
      ]
    },
    {
      "cell_type": "code",
      "execution_count": 40,
      "metadata": {
        "id": "0oNMlL6LBKFh",
        "trusted": true
      },
      "outputs": [],
      "source": [
        "model.save('my_model.h5')"
      ]
    },
    {
      "cell_type": "code",
      "execution_count": 44,
      "metadata": {},
      "outputs": [
        {
          "name": "stdout",
          "output_type": "stream",
          "text": [
            "1/1 [==============================] - 0s 466ms/step\n",
            "Predicted class: class2\n",
            "Confidence: 1.00\n"
          ]
        }
      ],
      "source": [
        "import tensorflow as tf\n",
        "from PIL import Image\n",
        "import numpy as np\n",
        "\n",
        "# Load your pre-trained model\n",
        "model = tf.keras.models.load_model('my_model.h5')\n",
        "\n",
        "# Load and preprocess the image\n",
        "image_path = 'nv_samplepic.jpg'\n",
        "input_size = (28, 28)  # Adjust the size to match the model's input size\n",
        "class_names = ['class1', 'class2', 'class3']  # Replace with your actual class names\n",
        "\n",
        "# Load the image and resize it\n",
        "img = Image.open(image_path)\n",
        "img = img.resize(input_size)  # Resize to match the model's input size\n",
        "\n",
        "# Convert the image to a NumPy array\n",
        "img_array = np.array(img)\n",
        "\n",
        "# Preprocess the image (normalize, expand dimensions, etc.)\n",
        "img_array = img_array / 255.0  # Normalize pixel values\n",
        "img_array = np.expand_dims(img_array, axis=0)  # Add batch dimension if needed\n",
        "\n",
        "# Make predictions using the model\n",
        "predictions = model.predict(img_array)\n",
        "\n",
        "# Get the predicted class index\n",
        "predicted_class_index = np.argmax(predictions, axis=1)[0]\n",
        "\n",
        "# Get the predicted class name\n",
        "predicted_class_name = class_names[predicted_class_index]\n",
        "\n",
        "# Print the predicted class and confidence\n",
        "print(f'Predicted class: {predicted_class_name}')\n",
        "print(f'Confidence: {predictions[0][predicted_class_index]:.2f}')\n",
        "\n",
        "#predict disease\n"
      ]
    },
    {
      "cell_type": "code",
      "execution_count": 50,
      "metadata": {},
      "outputs": [
        {
          "name": "stdout",
          "output_type": "stream",
          "text": [
            "1/1 [==============================] - 0s 162ms/step\n",
            "Predicted Disease: non_melanoma\n",
            "Confidence: 1.00\n"
          ]
        }
      ],
      "source": [
        "import tensorflow as tf\n",
        "from PIL import Image\n",
        "import numpy as np\n",
        "\n",
        "def predict_disease(image_path):\n",
        "    # Load your pre-trained model\n",
        "    model = tf.keras.models.load_model('my_model.h5')\n",
        "\n",
        "    # Load and preprocess the image\n",
        "    input_size = (28, 28)  # Adjust the size to match the model's input size\n",
        "\n",
        "    # Load the image and resize it\n",
        "    img = Image.open(image_path)\n",
        "    img = img.resize(input_size)  # Resize to match the model's input size\n",
        "\n",
        "    # Convert the image to a NumPy array\n",
        "    img_array = np.array(img)\n",
        "\n",
        "    # Preprocess the image (normalize, expand dimensions, etc.)\n",
        "    img_array = img_array / 255.0  # Normalize pixel values\n",
        "    img_array = np.expand_dims(img_array, axis=0)  # Add batch dimension if needed\n",
        "\n",
        "    # Make predictions using the model\n",
        "    predictions = model.predict(img_array)\n",
        "\n",
        "\n",
        "    # Get the confidence score for the prediction\n",
        "    confidence_score = predictions[0][predicted_class_index]\n",
        "\n",
        "    return predicted_disease, confidence_score\n",
        "\n",
        "# Example usage:\n",
        "image_path = 'melanoma.jpg'\n",
        "predicted_disease, confidence_score = predict_disease(image_path)\n",
        "print(f'Predicted Disease: {predicted_disease}')\n",
        "print(f'Confidence: {confidence_score:.2f}')"
      ]
    },
    {
      "cell_type": "code",
      "execution_count": null,
      "metadata": {},
      "outputs": [],
      "source": []
    }
  ],
  "metadata": {
    "accelerator": "GPU",
    "colab": {
      "collapsed_sections": [],
      "include_colab_link": true,
      "name": "Skin Cancer Classification - Custom model .ipynb",
      "provenance": []
    },
    "interpreter": {
      "hash": "cef7e56e3efb03dc4722e802dee2786baa7a47ac4f372038c04864e6281176ee"
    },
    "kernelspec": {
      "display_name": "Python 3.9.7 64-bit ('SkinCancer-39': conda)",
      "name": "python3"
    },
    "language_info": {
      "codemirror_mode": {
        "name": "ipython",
        "version": 3
      },
      "file_extension": ".py",
      "mimetype": "text/x-python",
      "name": "python",
      "nbconvert_exporter": "python",
      "pygments_lexer": "ipython3",
      "version": "3.11.3"
    }
  },
  "nbformat": 4,
  "nbformat_minor": 0
}
